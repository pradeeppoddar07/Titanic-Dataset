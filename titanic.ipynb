{
 "cells": [
  {
   "cell_type": "code",
   "execution_count": 15,
   "metadata": {},
   "outputs": [
    {
     "name": "stdout",
     "output_type": "stream",
     "text": [
      "1    0.786756\n",
      "0    0.213244\n",
      "Name: result, dtype: float64\n"
     ]
    }
   ],
   "source": [
    "import pandas as pd\n",
    "train = pd.read_csv('download/train.csv')\n",
    "train[\"hyp\"]=0\n",
    "train.loc[train.Sex=='female','hyp']=1\n",
    "train['result']=0\n",
    "train.loc[train.Survived==train['hyp'],'result']=1\n",
    "print(train['result'].value_counts(normalize=True))\n"
   ]
  },
  {
   "cell_type": "code",
   "execution_count": 20,
   "metadata": {},
   "outputs": [],
   "source": [
    "train.loc[train.Sex=='male','Sex']=0\n",
    "train.loc[train.Sex=='female','Sex']=1\n",
    "train['Embarked']=train['Embarked'].fillna('S')\n",
    "\n",
    "train['Age']=train['Age'].fillna(train['Age'].dropna().median())\n",
    "train['Fare']=train['Fare'].fillna(train['Fare'].dropna().median())"
   ]
  },
  {
   "cell_type": "code",
   "execution_count": 55,
   "metadata": {},
   "outputs": [
    {
     "name": "stdout",
     "output_type": "stream",
     "text": [
      "0.799102132435\n"
     ]
    }
   ],
   "source": [
    "from sklearn import linear_model,preprocessing\n",
    "target=train[\"Survived\"].values\n",
    "feature_name=[\"Pclass\",\"Age\",\"Sex\",\"SibSp\",\"Parch\",'Fare','Embarked']\n",
    "features=train[feature_name].values\n",
    "classifier=linear_model.LogisticRegression()\n",
    "classsifier_=classifier.fit(features,target)\n",
    "print(classsifier_.score(features,target))"
   ]
  },
  {
   "cell_type": "code",
   "execution_count": 54,
   "metadata": {},
   "outputs": [
    {
     "name": "stdout",
     "output_type": "stream",
     "text": [
      "0.83164983165\n"
     ]
    }
   ],
   "source": [
    "poly=preprocessing.PolynomialFeatures(degree=2)\n",
    "poly_features=poly.fit_transform(features)\n",
    "classsifier_=classifier.fit(poly_features,target)\n",
    "print(classsifier_.score(poly_features,target))"
   ]
  },
  {
   "cell_type": "code",
   "execution_count": 59,
   "metadata": {},
   "outputs": [
    {
     "name": "stdout",
     "output_type": "stream",
     "text": [
      "0.979797979798\n"
     ]
    }
   ],
   "source": [
    "from sklearn import tree\n",
    "decision_tree=tree.DecisionTreeClassifier(random_state=1)\n",
    "tree_=decision_tree.fit(features,target)\n",
    "print(tree_.score(features,target))"
   ]
  },
  {
   "cell_type": "code",
   "execution_count": 71,
   "metadata": {},
   "outputs": [
    {
     "name": "stdout",
     "output_type": "stream",
     "text": [
      "[ 0.66666667  0.61111111  0.66666667  0.88888889  0.94444444  0.94444444\n",
      "  0.72222222  0.77777778  0.72222222  0.77777778  0.72222222  0.61111111\n",
      "  0.72222222  0.77777778  0.55555556  0.83333333  1.          0.66666667\n",
      "  0.77777778  0.77777778  0.88888889  0.77777778  0.88888889  0.72222222\n",
      "  0.55555556  0.83333333  0.94444444  0.88888889  0.66666667  0.83333333\n",
      "  0.72222222  0.66666667  0.88888889  0.94444444  0.88888889  0.77777778\n",
      "  0.72222222  0.72222222  0.72222222  0.77777778  0.88888889  0.83333333\n",
      "  0.76470588  0.88235294  0.70588235  0.76470588  0.82352941  0.88235294\n",
      "  0.88235294  0.875     ]\n",
      "0.786062091503\n"
     ]
    }
   ],
   "source": [
    "from sklearn import model_selection\n",
    "scores=model_selection.cross_val_score(decision_tree,features,target,scoring='accuracy',cv=50)\n",
    "print(scores)\n",
    "print(scores.mean())"
   ]
  },
  {
   "cell_type": "code",
   "execution_count": 70,
   "metadata": {},
   "outputs": [
    {
     "name": "stdout",
     "output_type": "stream",
     "text": [
      "[ 0.77777778  0.66666667  0.77777778  0.94444444  0.83333333  0.88888889\n",
      "  0.61111111  0.83333333  0.88888889  0.88888889  0.72222222  0.66666667\n",
      "  0.83333333  0.77777778  0.72222222  0.83333333  0.94444444  0.72222222\n",
      "  0.94444444  0.83333333  0.88888889  0.83333333  0.83333333  0.88888889\n",
      "  0.88888889  0.83333333  0.83333333  0.83333333  0.77777778  0.88888889\n",
      "  0.72222222  0.66666667  0.88888889  0.88888889  0.83333333  0.77777778\n",
      "  0.72222222  0.66666667  0.88888889  0.77777778  0.83333333  0.88888889\n",
      "  0.88235294  0.94117647  0.82352941  0.70588235  0.88235294  0.88235294\n",
      "  1.          0.9375    ]\n",
      "0.82443627451\n"
     ]
    }
   ],
   "source": [
    "generalized=tree.DecisionTreeClassifier(random_state=1,max_depth=7,min_samples_split=2)\n",
    "generalized_=generalized.fit(features,target)\n",
    "\n",
    "score=model_selection.cross_val_score(generalized,features,target,scoring='accuracy',cv=50)\n",
    "print(score)\n",
    "print(score.mean())"
   ]
  },
  {
   "cell_type": "code",
   "execution_count": 75,
   "metadata": {},
   "outputs": [],
   "source": [
    "tree.export_graphviz(generalized,feature_names=feature_name,out_file='tree.dot')"
   ]
  },
  {
   "cell_type": "code",
   "execution_count": null,
   "metadata": {
    "collapsed": true
   },
   "outputs": [],
   "source": []
  }
 ],
 "metadata": {
  "kernelspec": {
   "display_name": "Python 3",
   "language": "python",
   "name": "python3"
  },
  "language_info": {
   "codemirror_mode": {
    "name": "ipython",
    "version": 3
   },
   "file_extension": ".py",
   "mimetype": "text/x-python",
   "name": "python",
   "nbconvert_exporter": "python",
   "pygments_lexer": "ipython3",
   "version": "3.6.3"
  }
 },
 "nbformat": 4,
 "nbformat_minor": 2
}
